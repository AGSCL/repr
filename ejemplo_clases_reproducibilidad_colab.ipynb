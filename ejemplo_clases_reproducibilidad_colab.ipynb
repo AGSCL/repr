{
  "nbformat": 4,
  "nbformat_minor": 0,
  "metadata": {
    "colab": {
      "provenance": []
    },
    "kernelspec": {
      "name": "ir",
      "display_name": "R"
    },
    "language_info": {
      "name": "R"
    }
  },
  "cells": [
    {
      "cell_type": "markdown",
      "source": [
        "# Cargamos los datos\n",
        "\n",
        "Primero cargamos los datos que subimos."
      ],
      "metadata": {
        "id": "kyiXIb_n5dY2"
      }
    },
    {
      "cell_type": "code",
      "execution_count": 3,
      "metadata": {
        "colab": {
          "base_uri": "https://localhost:8080/"
        },
        "id": "INqAlFQ41fv3",
        "outputId": "d6f4770d-bfa9-4652-9ffb-94c40fdc15ad"
      },
      "outputs": [
        {
          "output_type": "stream",
          "name": "stderr",
          "text": [
            "Warning message:\n",
            "“namespace ‘easyalluvial’ is not available and has been replaced\n",
            "by .GlobalEnv when processing object ‘p_alluvial’”\n",
            "Warning message:\n",
            "“namespace ‘ggalluvial’ is not available and has been replaced\n",
            "by .GlobalEnv when processing object ‘p_alluvial’”\n",
            "Warning message:\n",
            "“namespace ‘plotly’ is not available and has been replaced\n",
            "by .GlobalEnv when processing object ‘fig’”\n",
            "Warning message:\n",
            "“namespace ‘ggrepel’ is not available and has been replaced\n",
            "by .GlobalEnv when processing object ‘ent_proteg_pers_bars_plots’”\n",
            "Warning message:\n",
            "“namespace ‘ggiraph’ is not available and has been replaced\n",
            "by .GlobalEnv when processing object ‘p’”\n"
          ]
        }
      ],
      "source": [
        "rm(list=ls());gc()\n",
        "load(\"/content/__accion_salud_exp_post_crash_seg.RData\")\n",
        "\n"
      ]
    },
    {
      "cell_type": "markdown",
      "source": [
        "Vemos los objetos de la base de datos (aquí no tenemos el panel dinámico de RStudio)."
      ],
      "metadata": {
        "id": "fOpu_HZt5n0c"
      }
    },
    {
      "cell_type": "code",
      "source": [
        "ls()"
      ],
      "metadata": {
        "colab": {
          "base_uri": "https://localhost:8080/",
          "height": 399
        },
        "id": "GC7Dtl3T5bSe",
        "outputId": "2a236974-d516-4bd4-e57e-ab38dc9ef8aa"
      },
      "execution_count": 2,
      "outputs": [
        {
          "output_type": "display_data",
          "data": {
            "text/html": [
              "<style>\n",
              ".list-inline {list-style: none; margin:0; padding: 0}\n",
              ".list-inline>li {display: inline-block}\n",
              ".list-inline>li:not(:last-child)::after {content: \"\\00b7\"; padding: 0 .5ex}\n",
              "</style>\n",
              "<ol class=list-inline><li>'%&gt;%'</li><li>'a'</li><li>'a_names'</li><li>'agotamiento_plot_sex'</li><li>'ans_sex'</li><li>'b'</li><li>'c'</li><li>'cat_dfs'</li><li>'cat_dfs2'</li><li>'cat_tab'</li><li>'cbind.fill'</li><li>'clipboard'</li><li>'clus_iter'</li><li>'colnames_anti'</li><li>'colnames_anti_seg'</li><li>'colnames_std'</li><li>'colnames_std_seg'</li><li>'cols'</li><li>'cols_labels'</li><li>'cols_labels_df2_cor'</li><li>'cols_labels2'</li><li>'cols_partial'</li><li>'columnas_nombre'</li><li>'columnas_nombre0'</li><li>'copy_names'</li><li>'corpus'</li><li>'d'</li><li>'dep_sex'</li><li>'df'</li><li>'e'</li><li>'eda'</li><li>'enc_trab_sal_toda'</li><li>'enc_trab_sal_toda_2'</li><li>'enc_trab_sal_toda_a'</li><li>'enc_trab_sal_toda_b'</li><li>'enc_trab_sal_toda_c'</li><li>'enc_trab_sal_toda_d'</li><li>'enc_trab_sal_toda_e'</li><li>'enc_trab_sal_toda_f'</li><li>'enc_trab_sal_toda_g'</li><li>'enc_trab_sal_toda_h'</li><li>'enc_trab_sal_toda_ins'</li><li>'enc_trab_sal_toda_std_names'</li><li>'ent_proteg_pers_bars'</li><li>'ent_proteg_pers_bars_plots'</li><li>'f'</li><li>'fig'</li><li>'find_type'</li><li>'g'</li><li>'h'</li><li>'h_names'</li><li>'i'</li><li>'i_df'</li><li>'input2'</li><li>'inst_resp'</li><li>'IQR_agot_est_postr'</li><li>'istas_bars'</li><li>'istas_bars_plot'</li><li>'istas_bars_plot2'</li><li>'istas_bars_plot3'</li><li>'istas_bars2'</li><li>'istas_bars3'</li><li>'m'</li><li>'med_prev_bars'</li><li>'med_prev_bars_plot'</li><li>'missing.values'</li><li>'names_df'</li><li>'names_df_cons'</li><li>'names_df_ins'</li><li>'names_df_ori'</li><li>'names_df_seg'</li><li>'names_df_status1'</li><li>'names_df_status2'</li><li>'names_df_std'</li><li>'no_mostrar'</li><li>'nombres_comunes_variables'</li><li>'ocdMelt1'</li><li>'p'</li><li>'p_10_df'</li><li>'p_9_10_df'</li><li>'p_9_10_plot'</li><li>'p_9_df'</li><li>'p_alluvial'</li><li>'p10_df'</li><li>'p10_plot'</li><li>'p12_13'</li><li>'p12_13_df'</li><li>'p12_13_no_sum'</li><li>'p12_13_plot'</li><li>'p12_df'</li><li>'p12_df_plot'</li><li>'p13_df'</li><li>'p13_df_plot'</li><li>'p14_p14a'</li><li>'p14_p14a2'</li><li>'p16_df'</li><li>'p16_df_plot'</li><li>'p17_df'</li><li>'p17_df_especial'</li><li>'p17_df_especial_plot2'</li><li>'p17_df_especial2'</li><li>'p17_df_plot'</li><li>'p18_df'</li><li>'p18_plot'</li><li>'p19_df'</li><li>'p19_plot'</li><li>'p19_plot_print'</li><li>'p26_df'</li><li>'p26_plot'</li><li>'p34_plot'</li><li>'p34_rec_df'</li><li>'p36_plot'</li><li>'p36_reasig_df'</li><li>'p36_reasig_df_plot'</li><li>'p38_df'</li><li>'p38_plot'</li><li>'p39_df'</li><li>'p39_plot'</li><li>'p8_df'</li><li>'p8_plot'</li><li>'p9_df'</li><li>'p9_df_plot'</li><li>'p9_plot'</li><li>'permute_icc'</li><li>'permute_tau'</li><li>'pie_ans_dep'</li><li>'plot_miss'</li><li>'plot_p12_13'</li><li>'postraumatico_plot_sex'</li><li>'ptjes_p36_df_2'</li><li>'ptjes_p9'</li><li>'pvals1'</li><li>'pvals2'</li><li>'pvals3'</li><li>'pvals4'</li><li>'pvals5'</li><li>'req_at_sm'</li><li>'resi_bars'</li><li>'resi_bars_plot'</li><li>'restab1_all'</li><li>'restab2_sex'</li><li>'restab3_sup_jef'</li><li>'restab4_sit_contr'</li><li>'restab5_estamento'</li><li>'seg_df'</li><li>'seg_df_std_names'</li><li>'skimr_surveymonkey_accionsalududp_df2_ins'</li><li>'sm_bars'</li><li>'sm_bars_plot'</li><li>'surveymonkey_accionsalududp_df2_cor'</li><li>'surveymonkey_accionsalududp_df2_cor_prev1'</li><li>'surveymonkey_accionsalududp_df2_cor_prev2'</li><li>'surveymonkey_accionsalududp_df2_cor_prev3'</li><li>'surveymonkey_accionsalududp_df2_cor_prev3_distinto_valor'</li><li>'surveymonkey_accionsalududp_df2_cor_prev3_misma_sup'</li><li>'surveymonkey_accionsalududp_df2_cor_sel_2'</li><li>'surveymonkey_accionsalududp_df2_cor_table'</li><li>'surveymonkey_accionsalududp_df2_ins'</li><li>'table1_all'</li><li>'table2_sex'</li><li>'table3_sup_jef'</li><li>'table4_sit_contr'</li><li>'table5_estamento'</li><li>'tam_ans'</li><li>'tam_dep'</li><li>'tdm'</li><li>'to_string'</li><li>'tooltip_css'</li><li>'tot'</li><li>'v'</li><li>'var_labels_df'</li><li>'var_lbls_no_char'</li><li>'x'</li></ol>\n"
            ],
            "text/markdown": "1. '%&gt;%'\n2. 'a'\n3. 'a_names'\n4. 'agotamiento_plot_sex'\n5. 'ans_sex'\n6. 'b'\n7. 'c'\n8. 'cat_dfs'\n9. 'cat_dfs2'\n10. 'cat_tab'\n11. 'cbind.fill'\n12. 'clipboard'\n13. 'clus_iter'\n14. 'colnames_anti'\n15. 'colnames_anti_seg'\n16. 'colnames_std'\n17. 'colnames_std_seg'\n18. 'cols'\n19. 'cols_labels'\n20. 'cols_labels_df2_cor'\n21. 'cols_labels2'\n22. 'cols_partial'\n23. 'columnas_nombre'\n24. 'columnas_nombre0'\n25. 'copy_names'\n26. 'corpus'\n27. 'd'\n28. 'dep_sex'\n29. 'df'\n30. 'e'\n31. 'eda'\n32. 'enc_trab_sal_toda'\n33. 'enc_trab_sal_toda_2'\n34. 'enc_trab_sal_toda_a'\n35. 'enc_trab_sal_toda_b'\n36. 'enc_trab_sal_toda_c'\n37. 'enc_trab_sal_toda_d'\n38. 'enc_trab_sal_toda_e'\n39. 'enc_trab_sal_toda_f'\n40. 'enc_trab_sal_toda_g'\n41. 'enc_trab_sal_toda_h'\n42. 'enc_trab_sal_toda_ins'\n43. 'enc_trab_sal_toda_std_names'\n44. 'ent_proteg_pers_bars'\n45. 'ent_proteg_pers_bars_plots'\n46. 'f'\n47. 'fig'\n48. 'find_type'\n49. 'g'\n50. 'h'\n51. 'h_names'\n52. 'i'\n53. 'i_df'\n54. 'input2'\n55. 'inst_resp'\n56. 'IQR_agot_est_postr'\n57. 'istas_bars'\n58. 'istas_bars_plot'\n59. 'istas_bars_plot2'\n60. 'istas_bars_plot3'\n61. 'istas_bars2'\n62. 'istas_bars3'\n63. 'm'\n64. 'med_prev_bars'\n65. 'med_prev_bars_plot'\n66. 'missing.values'\n67. 'names_df'\n68. 'names_df_cons'\n69. 'names_df_ins'\n70. 'names_df_ori'\n71. 'names_df_seg'\n72. 'names_df_status1'\n73. 'names_df_status2'\n74. 'names_df_std'\n75. 'no_mostrar'\n76. 'nombres_comunes_variables'\n77. 'ocdMelt1'\n78. 'p'\n79. 'p_10_df'\n80. 'p_9_10_df'\n81. 'p_9_10_plot'\n82. 'p_9_df'\n83. 'p_alluvial'\n84. 'p10_df'\n85. 'p10_plot'\n86. 'p12_13'\n87. 'p12_13_df'\n88. 'p12_13_no_sum'\n89. 'p12_13_plot'\n90. 'p12_df'\n91. 'p12_df_plot'\n92. 'p13_df'\n93. 'p13_df_plot'\n94. 'p14_p14a'\n95. 'p14_p14a2'\n96. 'p16_df'\n97. 'p16_df_plot'\n98. 'p17_df'\n99. 'p17_df_especial'\n100. 'p17_df_especial_plot2'\n101. 'p17_df_especial2'\n102. 'p17_df_plot'\n103. 'p18_df'\n104. 'p18_plot'\n105. 'p19_df'\n106. 'p19_plot'\n107. 'p19_plot_print'\n108. 'p26_df'\n109. 'p26_plot'\n110. 'p34_plot'\n111. 'p34_rec_df'\n112. 'p36_plot'\n113. 'p36_reasig_df'\n114. 'p36_reasig_df_plot'\n115. 'p38_df'\n116. 'p38_plot'\n117. 'p39_df'\n118. 'p39_plot'\n119. 'p8_df'\n120. 'p8_plot'\n121. 'p9_df'\n122. 'p9_df_plot'\n123. 'p9_plot'\n124. 'permute_icc'\n125. 'permute_tau'\n126. 'pie_ans_dep'\n127. 'plot_miss'\n128. 'plot_p12_13'\n129. 'postraumatico_plot_sex'\n130. 'ptjes_p36_df_2'\n131. 'ptjes_p9'\n132. 'pvals1'\n133. 'pvals2'\n134. 'pvals3'\n135. 'pvals4'\n136. 'pvals5'\n137. 'req_at_sm'\n138. 'resi_bars'\n139. 'resi_bars_plot'\n140. 'restab1_all'\n141. 'restab2_sex'\n142. 'restab3_sup_jef'\n143. 'restab4_sit_contr'\n144. 'restab5_estamento'\n145. 'seg_df'\n146. 'seg_df_std_names'\n147. 'skimr_surveymonkey_accionsalududp_df2_ins'\n148. 'sm_bars'\n149. 'sm_bars_plot'\n150. 'surveymonkey_accionsalududp_df2_cor'\n151. 'surveymonkey_accionsalududp_df2_cor_prev1'\n152. 'surveymonkey_accionsalududp_df2_cor_prev2'\n153. 'surveymonkey_accionsalududp_df2_cor_prev3'\n154. 'surveymonkey_accionsalududp_df2_cor_prev3_distinto_valor'\n155. 'surveymonkey_accionsalududp_df2_cor_prev3_misma_sup'\n156. 'surveymonkey_accionsalududp_df2_cor_sel_2'\n157. 'surveymonkey_accionsalududp_df2_cor_table'\n158. 'surveymonkey_accionsalududp_df2_ins'\n159. 'table1_all'\n160. 'table2_sex'\n161. 'table3_sup_jef'\n162. 'table4_sit_contr'\n163. 'table5_estamento'\n164. 'tam_ans'\n165. 'tam_dep'\n166. 'tdm'\n167. 'to_string'\n168. 'tooltip_css'\n169. 'tot'\n170. 'v'\n171. 'var_labels_df'\n172. 'var_lbls_no_char'\n173. 'x'\n\n\n",
            "text/latex": "\\begin{enumerate*}\n\\item '\\%>\\%'\n\\item 'a'\n\\item 'a\\_names'\n\\item 'agotamiento\\_plot\\_sex'\n\\item 'ans\\_sex'\n\\item 'b'\n\\item 'c'\n\\item 'cat\\_dfs'\n\\item 'cat\\_dfs2'\n\\item 'cat\\_tab'\n\\item 'cbind.fill'\n\\item 'clipboard'\n\\item 'clus\\_iter'\n\\item 'colnames\\_anti'\n\\item 'colnames\\_anti\\_seg'\n\\item 'colnames\\_std'\n\\item 'colnames\\_std\\_seg'\n\\item 'cols'\n\\item 'cols\\_labels'\n\\item 'cols\\_labels\\_df2\\_cor'\n\\item 'cols\\_labels2'\n\\item 'cols\\_partial'\n\\item 'columnas\\_nombre'\n\\item 'columnas\\_nombre0'\n\\item 'copy\\_names'\n\\item 'corpus'\n\\item 'd'\n\\item 'dep\\_sex'\n\\item 'df'\n\\item 'e'\n\\item 'eda'\n\\item 'enc\\_trab\\_sal\\_toda'\n\\item 'enc\\_trab\\_sal\\_toda\\_2'\n\\item 'enc\\_trab\\_sal\\_toda\\_a'\n\\item 'enc\\_trab\\_sal\\_toda\\_b'\n\\item 'enc\\_trab\\_sal\\_toda\\_c'\n\\item 'enc\\_trab\\_sal\\_toda\\_d'\n\\item 'enc\\_trab\\_sal\\_toda\\_e'\n\\item 'enc\\_trab\\_sal\\_toda\\_f'\n\\item 'enc\\_trab\\_sal\\_toda\\_g'\n\\item 'enc\\_trab\\_sal\\_toda\\_h'\n\\item 'enc\\_trab\\_sal\\_toda\\_ins'\n\\item 'enc\\_trab\\_sal\\_toda\\_std\\_names'\n\\item 'ent\\_proteg\\_pers\\_bars'\n\\item 'ent\\_proteg\\_pers\\_bars\\_plots'\n\\item 'f'\n\\item 'fig'\n\\item 'find\\_type'\n\\item 'g'\n\\item 'h'\n\\item 'h\\_names'\n\\item 'i'\n\\item 'i\\_df'\n\\item 'input2'\n\\item 'inst\\_resp'\n\\item 'IQR\\_agot\\_est\\_postr'\n\\item 'istas\\_bars'\n\\item 'istas\\_bars\\_plot'\n\\item 'istas\\_bars\\_plot2'\n\\item 'istas\\_bars\\_plot3'\n\\item 'istas\\_bars2'\n\\item 'istas\\_bars3'\n\\item 'm'\n\\item 'med\\_prev\\_bars'\n\\item 'med\\_prev\\_bars\\_plot'\n\\item 'missing.values'\n\\item 'names\\_df'\n\\item 'names\\_df\\_cons'\n\\item 'names\\_df\\_ins'\n\\item 'names\\_df\\_ori'\n\\item 'names\\_df\\_seg'\n\\item 'names\\_df\\_status1'\n\\item 'names\\_df\\_status2'\n\\item 'names\\_df\\_std'\n\\item 'no\\_mostrar'\n\\item 'nombres\\_comunes\\_variables'\n\\item 'ocdMelt1'\n\\item 'p'\n\\item 'p\\_10\\_df'\n\\item 'p\\_9\\_10\\_df'\n\\item 'p\\_9\\_10\\_plot'\n\\item 'p\\_9\\_df'\n\\item 'p\\_alluvial'\n\\item 'p10\\_df'\n\\item 'p10\\_plot'\n\\item 'p12\\_13'\n\\item 'p12\\_13\\_df'\n\\item 'p12\\_13\\_no\\_sum'\n\\item 'p12\\_13\\_plot'\n\\item 'p12\\_df'\n\\item 'p12\\_df\\_plot'\n\\item 'p13\\_df'\n\\item 'p13\\_df\\_plot'\n\\item 'p14\\_p14a'\n\\item 'p14\\_p14a2'\n\\item 'p16\\_df'\n\\item 'p16\\_df\\_plot'\n\\item 'p17\\_df'\n\\item 'p17\\_df\\_especial'\n\\item 'p17\\_df\\_especial\\_plot2'\n\\item 'p17\\_df\\_especial2'\n\\item 'p17\\_df\\_plot'\n\\item 'p18\\_df'\n\\item 'p18\\_plot'\n\\item 'p19\\_df'\n\\item 'p19\\_plot'\n\\item 'p19\\_plot\\_print'\n\\item 'p26\\_df'\n\\item 'p26\\_plot'\n\\item 'p34\\_plot'\n\\item 'p34\\_rec\\_df'\n\\item 'p36\\_plot'\n\\item 'p36\\_reasig\\_df'\n\\item 'p36\\_reasig\\_df\\_plot'\n\\item 'p38\\_df'\n\\item 'p38\\_plot'\n\\item 'p39\\_df'\n\\item 'p39\\_plot'\n\\item 'p8\\_df'\n\\item 'p8\\_plot'\n\\item 'p9\\_df'\n\\item 'p9\\_df\\_plot'\n\\item 'p9\\_plot'\n\\item 'permute\\_icc'\n\\item 'permute\\_tau'\n\\item 'pie\\_ans\\_dep'\n\\item 'plot\\_miss'\n\\item 'plot\\_p12\\_13'\n\\item 'postraumatico\\_plot\\_sex'\n\\item 'ptjes\\_p36\\_df\\_2'\n\\item 'ptjes\\_p9'\n\\item 'pvals1'\n\\item 'pvals2'\n\\item 'pvals3'\n\\item 'pvals4'\n\\item 'pvals5'\n\\item 'req\\_at\\_sm'\n\\item 'resi\\_bars'\n\\item 'resi\\_bars\\_plot'\n\\item 'restab1\\_all'\n\\item 'restab2\\_sex'\n\\item 'restab3\\_sup\\_jef'\n\\item 'restab4\\_sit\\_contr'\n\\item 'restab5\\_estamento'\n\\item 'seg\\_df'\n\\item 'seg\\_df\\_std\\_names'\n\\item 'skimr\\_surveymonkey\\_accionsalududp\\_df2\\_ins'\n\\item 'sm\\_bars'\n\\item 'sm\\_bars\\_plot'\n\\item 'surveymonkey\\_accionsalududp\\_df2\\_cor'\n\\item 'surveymonkey\\_accionsalududp\\_df2\\_cor\\_prev1'\n\\item 'surveymonkey\\_accionsalududp\\_df2\\_cor\\_prev2'\n\\item 'surveymonkey\\_accionsalududp\\_df2\\_cor\\_prev3'\n\\item 'surveymonkey\\_accionsalududp\\_df2\\_cor\\_prev3\\_distinto\\_valor'\n\\item 'surveymonkey\\_accionsalududp\\_df2\\_cor\\_prev3\\_misma\\_sup'\n\\item 'surveymonkey\\_accionsalududp\\_df2\\_cor\\_sel\\_2'\n\\item 'surveymonkey\\_accionsalududp\\_df2\\_cor\\_table'\n\\item 'surveymonkey\\_accionsalududp\\_df2\\_ins'\n\\item 'table1\\_all'\n\\item 'table2\\_sex'\n\\item 'table3\\_sup\\_jef'\n\\item 'table4\\_sit\\_contr'\n\\item 'table5\\_estamento'\n\\item 'tam\\_ans'\n\\item 'tam\\_dep'\n\\item 'tdm'\n\\item 'to\\_string'\n\\item 'tooltip\\_css'\n\\item 'tot'\n\\item 'v'\n\\item 'var\\_labels\\_df'\n\\item 'var\\_lbls\\_no\\_char'\n\\item 'x'\n\\end{enumerate*}\n",
            "text/plain": [
              "  [1] \"%>%\"                                                     \n",
              "  [2] \"a\"                                                       \n",
              "  [3] \"a_names\"                                                 \n",
              "  [4] \"agotamiento_plot_sex\"                                    \n",
              "  [5] \"ans_sex\"                                                 \n",
              "  [6] \"b\"                                                       \n",
              "  [7] \"c\"                                                       \n",
              "  [8] \"cat_dfs\"                                                 \n",
              "  [9] \"cat_dfs2\"                                                \n",
              " [10] \"cat_tab\"                                                 \n",
              " [11] \"cbind.fill\"                                              \n",
              " [12] \"clipboard\"                                               \n",
              " [13] \"clus_iter\"                                               \n",
              " [14] \"colnames_anti\"                                           \n",
              " [15] \"colnames_anti_seg\"                                       \n",
              " [16] \"colnames_std\"                                            \n",
              " [17] \"colnames_std_seg\"                                        \n",
              " [18] \"cols\"                                                    \n",
              " [19] \"cols_labels\"                                             \n",
              " [20] \"cols_labels_df2_cor\"                                     \n",
              " [21] \"cols_labels2\"                                            \n",
              " [22] \"cols_partial\"                                            \n",
              " [23] \"columnas_nombre\"                                         \n",
              " [24] \"columnas_nombre0\"                                        \n",
              " [25] \"copy_names\"                                              \n",
              " [26] \"corpus\"                                                  \n",
              " [27] \"d\"                                                       \n",
              " [28] \"dep_sex\"                                                 \n",
              " [29] \"df\"                                                      \n",
              " [30] \"e\"                                                       \n",
              " [31] \"eda\"                                                     \n",
              " [32] \"enc_trab_sal_toda\"                                       \n",
              " [33] \"enc_trab_sal_toda_2\"                                     \n",
              " [34] \"enc_trab_sal_toda_a\"                                     \n",
              " [35] \"enc_trab_sal_toda_b\"                                     \n",
              " [36] \"enc_trab_sal_toda_c\"                                     \n",
              " [37] \"enc_trab_sal_toda_d\"                                     \n",
              " [38] \"enc_trab_sal_toda_e\"                                     \n",
              " [39] \"enc_trab_sal_toda_f\"                                     \n",
              " [40] \"enc_trab_sal_toda_g\"                                     \n",
              " [41] \"enc_trab_sal_toda_h\"                                     \n",
              " [42] \"enc_trab_sal_toda_ins\"                                   \n",
              " [43] \"enc_trab_sal_toda_std_names\"                             \n",
              " [44] \"ent_proteg_pers_bars\"                                    \n",
              " [45] \"ent_proteg_pers_bars_plots\"                              \n",
              " [46] \"f\"                                                       \n",
              " [47] \"fig\"                                                     \n",
              " [48] \"find_type\"                                               \n",
              " [49] \"g\"                                                       \n",
              " [50] \"h\"                                                       \n",
              " [51] \"h_names\"                                                 \n",
              " [52] \"i\"                                                       \n",
              " [53] \"i_df\"                                                    \n",
              " [54] \"input2\"                                                  \n",
              " [55] \"inst_resp\"                                               \n",
              " [56] \"IQR_agot_est_postr\"                                      \n",
              " [57] \"istas_bars\"                                              \n",
              " [58] \"istas_bars_plot\"                                         \n",
              " [59] \"istas_bars_plot2\"                                        \n",
              " [60] \"istas_bars_plot3\"                                        \n",
              " [61] \"istas_bars2\"                                             \n",
              " [62] \"istas_bars3\"                                             \n",
              " [63] \"m\"                                                       \n",
              " [64] \"med_prev_bars\"                                           \n",
              " [65] \"med_prev_bars_plot\"                                      \n",
              " [66] \"missing.values\"                                          \n",
              " [67] \"names_df\"                                                \n",
              " [68] \"names_df_cons\"                                           \n",
              " [69] \"names_df_ins\"                                            \n",
              " [70] \"names_df_ori\"                                            \n",
              " [71] \"names_df_seg\"                                            \n",
              " [72] \"names_df_status1\"                                        \n",
              " [73] \"names_df_status2\"                                        \n",
              " [74] \"names_df_std\"                                            \n",
              " [75] \"no_mostrar\"                                              \n",
              " [76] \"nombres_comunes_variables\"                               \n",
              " [77] \"ocdMelt1\"                                                \n",
              " [78] \"p\"                                                       \n",
              " [79] \"p_10_df\"                                                 \n",
              " [80] \"p_9_10_df\"                                               \n",
              " [81] \"p_9_10_plot\"                                             \n",
              " [82] \"p_9_df\"                                                  \n",
              " [83] \"p_alluvial\"                                              \n",
              " [84] \"p10_df\"                                                  \n",
              " [85] \"p10_plot\"                                                \n",
              " [86] \"p12_13\"                                                  \n",
              " [87] \"p12_13_df\"                                               \n",
              " [88] \"p12_13_no_sum\"                                           \n",
              " [89] \"p12_13_plot\"                                             \n",
              " [90] \"p12_df\"                                                  \n",
              " [91] \"p12_df_plot\"                                             \n",
              " [92] \"p13_df\"                                                  \n",
              " [93] \"p13_df_plot\"                                             \n",
              " [94] \"p14_p14a\"                                                \n",
              " [95] \"p14_p14a2\"                                               \n",
              " [96] \"p16_df\"                                                  \n",
              " [97] \"p16_df_plot\"                                             \n",
              " [98] \"p17_df\"                                                  \n",
              " [99] \"p17_df_especial\"                                         \n",
              "[100] \"p17_df_especial_plot2\"                                   \n",
              "[101] \"p17_df_especial2\"                                        \n",
              "[102] \"p17_df_plot\"                                             \n",
              "[103] \"p18_df\"                                                  \n",
              "[104] \"p18_plot\"                                                \n",
              "[105] \"p19_df\"                                                  \n",
              "[106] \"p19_plot\"                                                \n",
              "[107] \"p19_plot_print\"                                          \n",
              "[108] \"p26_df\"                                                  \n",
              "[109] \"p26_plot\"                                                \n",
              "[110] \"p34_plot\"                                                \n",
              "[111] \"p34_rec_df\"                                              \n",
              "[112] \"p36_plot\"                                                \n",
              "[113] \"p36_reasig_df\"                                           \n",
              "[114] \"p36_reasig_df_plot\"                                      \n",
              "[115] \"p38_df\"                                                  \n",
              "[116] \"p38_plot\"                                                \n",
              "[117] \"p39_df\"                                                  \n",
              "[118] \"p39_plot\"                                                \n",
              "[119] \"p8_df\"                                                   \n",
              "[120] \"p8_plot\"                                                 \n",
              "[121] \"p9_df\"                                                   \n",
              "[122] \"p9_df_plot\"                                              \n",
              "[123] \"p9_plot\"                                                 \n",
              "[124] \"permute_icc\"                                             \n",
              "[125] \"permute_tau\"                                             \n",
              "[126] \"pie_ans_dep\"                                             \n",
              "[127] \"plot_miss\"                                               \n",
              "[128] \"plot_p12_13\"                                             \n",
              "[129] \"postraumatico_plot_sex\"                                  \n",
              "[130] \"ptjes_p36_df_2\"                                          \n",
              "[131] \"ptjes_p9\"                                                \n",
              "[132] \"pvals1\"                                                  \n",
              "[133] \"pvals2\"                                                  \n",
              "[134] \"pvals3\"                                                  \n",
              "[135] \"pvals4\"                                                  \n",
              "[136] \"pvals5\"                                                  \n",
              "[137] \"req_at_sm\"                                               \n",
              "[138] \"resi_bars\"                                               \n",
              "[139] \"resi_bars_plot\"                                          \n",
              "[140] \"restab1_all\"                                             \n",
              "[141] \"restab2_sex\"                                             \n",
              "[142] \"restab3_sup_jef\"                                         \n",
              "[143] \"restab4_sit_contr\"                                       \n",
              "[144] \"restab5_estamento\"                                       \n",
              "[145] \"seg_df\"                                                  \n",
              "[146] \"seg_df_std_names\"                                        \n",
              "[147] \"skimr_surveymonkey_accionsalududp_df2_ins\"               \n",
              "[148] \"sm_bars\"                                                 \n",
              "[149] \"sm_bars_plot\"                                            \n",
              "[150] \"surveymonkey_accionsalududp_df2_cor\"                     \n",
              "[151] \"surveymonkey_accionsalududp_df2_cor_prev1\"               \n",
              "[152] \"surveymonkey_accionsalududp_df2_cor_prev2\"               \n",
              "[153] \"surveymonkey_accionsalududp_df2_cor_prev3\"               \n",
              "[154] \"surveymonkey_accionsalududp_df2_cor_prev3_distinto_valor\"\n",
              "[155] \"surveymonkey_accionsalududp_df2_cor_prev3_misma_sup\"     \n",
              "[156] \"surveymonkey_accionsalududp_df2_cor_sel_2\"               \n",
              "[157] \"surveymonkey_accionsalududp_df2_cor_table\"               \n",
              "[158] \"surveymonkey_accionsalududp_df2_ins\"                     \n",
              "[159] \"table1_all\"                                              \n",
              "[160] \"table2_sex\"                                              \n",
              "[161] \"table3_sup_jef\"                                          \n",
              "[162] \"table4_sit_contr\"                                        \n",
              "[163] \"table5_estamento\"                                        \n",
              "[164] \"tam_ans\"                                                 \n",
              "[165] \"tam_dep\"                                                 \n",
              "[166] \"tdm\"                                                     \n",
              "[167] \"to_string\"                                               \n",
              "[168] \"tooltip_css\"                                             \n",
              "[169] \"tot\"                                                     \n",
              "[170] \"v\"                                                       \n",
              "[171] \"var_labels_df\"                                           \n",
              "[172] \"var_lbls_no_char\"                                        \n",
              "[173] \"x\"                                                       "
            ]
          },
          "metadata": {}
        }
      ]
    },
    {
      "cell_type": "markdown",
      "source": [
        "Cargamos paquetes estadísticos"
      ],
      "metadata": {
        "id": "gmO6P8g26HPD"
      }
    },
    {
      "cell_type": "code",
      "source": [
        "if(!require(tidyverse)){install.packages(\"tidyverse\")}\n",
        "if(!require(janitor)){install.packages(\"janitor\")}"
      ],
      "metadata": {
        "colab": {
          "base_uri": "https://localhost:8080/"
        },
        "id": "RKzwecXp6JTN",
        "outputId": "6a2477f5-e59b-45a3-a646-e2a2bce56f5a"
      },
      "execution_count": 7,
      "outputs": [
        {
          "output_type": "stream",
          "name": "stderr",
          "text": [
            "Loading required package: janitor\n",
            "\n",
            "Warning message in library(package, lib.loc = lib.loc, character.only = TRUE, logical.return = TRUE, :\n",
            "“there is no package called ‘janitor’”\n",
            "Installing package into ‘/usr/local/lib/R/site-library’\n",
            "(as ‘lib’ is unspecified)\n",
            "\n",
            "also installing the dependency ‘snakecase’\n",
            "\n",
            "\n"
          ]
        }
      ]
    },
    {
      "cell_type": "markdown",
      "source": [],
      "metadata": {
        "id": "iGvbwZSd5btt"
      }
    },
    {
      "cell_type": "code",
      "source": [
        "surveymonkey_accionsalududp_df2_cor_table|>\n",
        "  janitor::tabyl(tamizaje_ans, p19_contr_cont_nieg_epp_rec)|>\n",
        "  janitor::adorn_percentages(\"col\") |>\n",
        "  janitor::adorn_pct_formatting(digits = 1) # Opcional: formate"
      ],
      "metadata": {
        "colab": {
          "base_uri": "https://localhost:8080/",
          "height": 244
        },
        "id": "UbRAi8Rl50Kl",
        "outputId": "c22aef3f-65ee-40b5-c0a5-070e21cb75fb"
      },
      "execution_count": 11,
      "outputs": [
        {
          "output_type": "display_data",
          "data": {
            "text/html": [
              "<table class=\"dataframe\">\n",
              "<caption>A tabyl: 3 × 4</caption>\n",
              "<thead>\n",
              "\t<tr><th scope=col>tamizaje_ans</th><th scope=col>Incapacidad para negarse a trabajo inseguro</th><th scope=col>Quizas podría negarse/Probablemente, podría negarse/No dudaría en negarse</th><th scope=col>NA_</th></tr>\n",
              "\t<tr><th scope=col>&lt;fct&gt;</th><th scope=col>&lt;chr&gt;</th><th scope=col>&lt;chr&gt;</th><th scope=col>&lt;chr&gt;</th></tr>\n",
              "</thead>\n",
              "<tbody>\n",
              "\t<tr><td>Ausencia de Indicadores de Sintomatología Ansiosa</td><td>50.3%</td><td>57.3%</td><td>25.3%</td></tr>\n",
              "\t<tr><td>Indicadores de Sintomatología Ansiosa            </td><td>49.7%</td><td>42.7%</td><td>22.8%</td></tr>\n",
              "\t<tr><td>NA                                               </td><td>0.0% </td><td>0.0% </td><td>51.9%</td></tr>\n",
              "</tbody>\n",
              "</table>\n"
            ],
            "text/markdown": "\nA tabyl: 3 × 4\n\n| tamizaje_ans &lt;fct&gt; | Incapacidad para negarse a trabajo inseguro &lt;chr&gt; | Quizas podría negarse/Probablemente, podría negarse/No dudaría en negarse &lt;chr&gt; | NA_ &lt;chr&gt; |\n|---|---|---|---|\n| Ausencia de Indicadores de Sintomatología Ansiosa | 50.3% | 57.3% | 25.3% |\n| Indicadores de Sintomatología Ansiosa             | 49.7% | 42.7% | 22.8% |\n| NA                                                | 0.0%  | 0.0%  | 51.9% |\n\n",
            "text/latex": "A tabyl: 3 × 4\n\\begin{tabular}{llll}\n tamizaje\\_ans & Incapacidad para negarse a trabajo inseguro & Quizas podría negarse/Probablemente, podría negarse/No dudaría en negarse & NA\\_\\\\\n <fct> & <chr> & <chr> & <chr>\\\\\n\\hline\n\t Ausencia de Indicadores de Sintomatología Ansiosa & 50.3\\% & 57.3\\% & 25.3\\%\\\\\n\t Indicadores de Sintomatología Ansiosa             & 49.7\\% & 42.7\\% & 22.8\\%\\\\\n\t NA                                                & 0.0\\%  & 0.0\\%  & 51.9\\%\\\\\n\\end{tabular}\n",
            "text/plain": [
              "  tamizaje_ans                                     \n",
              "1 Ausencia de Indicadores de Sintomatología Ansiosa\n",
              "2 Indicadores de Sintomatología Ansiosa            \n",
              "3 NA                                               \n",
              "  Incapacidad para negarse a trabajo inseguro\n",
              "1 50.3%                                      \n",
              "2 49.7%                                      \n",
              "3 0.0%                                       \n",
              "  Quizas podría negarse/Probablemente, podría negarse/No dudaría en negarse\n",
              "1 57.3%                                                                    \n",
              "2 42.7%                                                                    \n",
              "3 0.0%                                                                     \n",
              "  NA_  \n",
              "1 25.3%\n",
              "2 22.8%\n",
              "3 51.9%"
            ]
          },
          "metadata": {}
        }
      ]
    }
  ]
}